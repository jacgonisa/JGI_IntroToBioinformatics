{
 "cells": [
  {
   "cell_type": "code",
   "execution_count": 1,
   "id": "7887d76a",
   "metadata": {},
   "outputs": [
    {
     "data": {
      "text/plain": [
       "true"
      ]
     },
     "execution_count": 1,
     "metadata": {},
     "output_type": "execute_result"
    }
   ],
   "source": [
    "require 'csv'\n",
    "require 'distribution'"
   ]
  },
  {
   "cell_type": "code",
   "execution_count": 2,
   "id": "ef17f262",
   "metadata": {},
   "outputs": [
    {
     "data": {
      "text/plain": [
       "true"
      ]
     },
     "execution_count": 2,
     "metadata": {},
     "output_type": "execute_result"
    }
   ],
   "source": [
    "require './SeedStock_object.rb'"
   ]
  },
  {
   "cell_type": "code",
   "execution_count": 3,
   "id": "1c2c900f",
   "metadata": {},
   "outputs": [
    {
     "data": {
      "text/plain": [
       "true"
      ]
     },
     "execution_count": 3,
     "metadata": {},
     "output_type": "execute_result"
    }
   ],
   "source": [
    "require './Gene_object.rb'"
   ]
  },
  {
   "cell_type": "code",
   "execution_count": 4,
   "id": "818f11ea",
   "metadata": {},
   "outputs": [
    {
     "data": {
      "text/plain": [
       "true"
      ]
     },
     "execution_count": 4,
     "metadata": {},
     "output_type": "execute_result"
    }
   ],
   "source": [
    "require './HybridCross_object.rb'"
   ]
  },
  {
   "cell_type": "code",
   "execution_count": 17,
   "id": "cde7e47c",
   "metadata": {},
   "outputs": [
    {
     "name": "stdout",
     "output_type": "stream",
     "text": [
      "WARNING: we have run out of Seed Stock A51\n",
      "WARNING: we have run out of Seed Stock B52\n",
      "Data saved to new_stock_file.tsv\n"
     ]
    }
   ],
   "source": [
    "# Create an array to hold instances of SeedStock\n",
    "seed_stocks = []\n",
    "\n",
    "# Read the data from the input file\n",
    "CSV.foreach('StockDatabaseDataFiles/seed_stock_data.tsv', col_sep: \"\\t\", headers: true) do |row|\n",
    "  # Create a SeedStock object for each row and store it in the array\n",
    "  seed_stock = SeedStock.new(row['Seed_Stock'], row['Mutant_Gene_ID'], row['Last_Planted'], row['Storage'], row['Grams_Remaining'])\n",
    "  seed_stocks << seed_stock\n",
    "end\n",
    "\n",
    "# Simulate planting 7 grams of seeds and update the gene bank information\n",
    "seed_stocks.each { |seed_stock| seed_stock.planting_simulation(7) }\n",
    "\n",
    "# Specify the path to the output TSV file\n",
    "output_file = 'new_stock_file.tsv'\n",
    "\n",
    "# Write the updated data to the output file\n",
    "CSV.open(output_file, 'w', col_sep: \"\\t\") do |csv|\n",
    "  # Write the header row\n",
    "  csv << ['Seed_Stock', 'Mutant_Gene_ID', 'Last_Planted', 'Storage', 'Grams_Remaining']\n",
    "  # Write the data for each SeedStock object to the file\n",
    "  seed_stocks.each { |seed_stock| csv << seed_stock.to_csv }\n",
    "end\n",
    "\n",
    "puts \"Data saved to #{output_file}\""
   ]
  },
  {
   "cell_type": "code",
   "execution_count": 18,
   "id": "7cd4c2b0",
   "metadata": {},
   "outputs": [
    {
     "name": "stdout",
     "output_type": "stream",
     "text": [
      "Recording:\n",
      "ufo is linked to pi with chi-squared score 32.2794279\n",
      "\n",
      "Final Report:\n",
      "ufo is linked to pi\n",
      "pi is linked to ufo\n"
     ]
    },
    {
     "data": {
      "text/plain": [
       "[#<#<Class:0x0000563072333850>::HybridCross:0x00005630714f4230 @parent1=\"A51\", @parent2=\"B52\", @f2_wild=152, @f2_p1=26, @f2_p2=22, @f2_p1p2=2, @seed_stock_parent1=#<SeedStock:0x00005630716a2c80 @seed=\"A51\", @gene_id=\"AT1G30950\", @last_planted=\"9/2/2013\", @storage=\"cama25\", @grams_remaining=5>, @seed_stock_parent2=#<SeedStock:0x0000563071699680 @seed=\"B52\", @gene_id=\"AT5G20240\", @last_planted=\"8/11/2012\", @storage=\"cama16\", @grams_remaining=7>, @chi_squared=32.27942794279428, @statistically_significant=true, @gene_name_parent1=\"ufo\", @gene_name_parent2=\"pi\">]"
      ]
     },
     "execution_count": 18,
     "metadata": {},
     "output_type": "execute_result"
    }
   ],
   "source": [
    "# Read data from seed_stock.tsv and link with gene names\n",
    "seed_stock_data = CSV.read('StockDatabaseDataFiles/seed_stock_data.tsv', col_sep: \"\\t\", headers: true)\n",
    "seed_stocks = seed_stock_data.map do |row|\n",
    "  gene_id = row['Mutant_Gene_ID']\n",
    "  seed_stock = SeedStock.new(row['Seed_Stock'], gene_id, row['Last_Planted'], row['Storage'], row['Grams_Remaining'])\n",
    "  seed_stock\n",
    "end\n",
    "\n",
    "# Read data from cross_data.tsv\n",
    "cross_data = CSV.read('StockDatabaseDataFiles/cross_data.tsv', col_sep: \"\\t\", headers: true)\n",
    "\n",
    "# Create an array to store instances of the HybridCross class\n",
    "hybrid_crosses = []\n",
    "\n",
    "# Get the gene_id to gene_name mapping using the class method\n",
    "gene_id_to_gene_name = Gene.build_gene_id_to_gene_name_mapping\n",
    "\n",
    "# Iterate through the CSV data and create instances of HybridCross\n",
    "cross_data.each do |row|\n",
    "  hybrid_cross = HybridCross.new(\n",
    "    row['Parent1'],\n",
    "    row['Parent2'],\n",
    "    row['F2_Wild'],\n",
    "    row['F2_P1'],\n",
    "    row['F2_P2'],\n",
    "    row['F2_P1P2']\n",
    "  )\n",
    "  hybrid_cross.link_to_seed_stocks_and_genes_names(seed_stocks, gene_id_to_gene_name)\n",
    "  chi_squared = hybrid_cross.chi_squared_test\n",
    "  hybrid_cross.chi_squared = chi_squared\n",
    "  hybrid_crosses << hybrid_cross\n",
    "end\n",
    "\n",
    "# Link gene names to hybrid crosses\n",
    "statistically_significant_genes = hybrid_crosses.select { |gene| gene.statistically_significant }\n",
    "\n",
    "puts \"Recording:\"\n",
    "statistically_significant_genes.each do |gene|\n",
    "  parent1_gene_name = gene.gene_name_parent1\n",
    "  parent2_gene_name = gene.gene_name_parent2\n",
    "  chi_squared = gene.chi_squared\n",
    "  puts \"#{parent1_gene_name} is linked to #{parent2_gene_name} with chi-squared score #{format('%.7f', chi_squared)}\"\n",
    "end\n",
    "\n",
    "puts\n",
    "puts \"Final Report:\"\n",
    "\n",
    "statistically_significant_genes.each do |gene|\n",
    "  parent1_gene_name = gene.gene_name_parent1\n",
    "  parent2_gene_name = gene.gene_name_parent2\n",
    "  puts \"#{parent1_gene_name} is linked to #{parent2_gene_name}\"\n",
    "  puts \"#{parent2_gene_name} is linked to #{parent1_gene_name}\"\n",
    "end"
   ]
  }
 ],
 "metadata": {
  "kernelspec": {
   "display_name": "Ruby 3.0.0",
   "language": "ruby",
   "name": "ruby"
  },
  "language_info": {
   "file_extension": ".rb",
   "mimetype": "application/x-ruby",
   "name": "ruby",
   "version": "3.0.0"
  }
 },
 "nbformat": 4,
 "nbformat_minor": 5
}
