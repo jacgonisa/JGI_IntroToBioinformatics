{
 "cells": [
  {
   "cell_type": "code",
   "execution_count": 14,
   "id": "76a2a162",
   "metadata": {},
   "outputs": [
    {
     "data": {
      "text/plain": [
       "\"/home/osboxes/Desktop/Challenges/JGI_IntroToBioinformatics/Assignment1\""
      ]
     },
     "execution_count": 14,
     "metadata": {},
     "output_type": "execute_result"
    }
   ],
   "source": [
    "Dir.pwd"
   ]
  },
  {
   "cell_type": "markdown",
   "id": "8bb5d0d4",
   "metadata": {},
   "source": [
    " **Let's first read the files we are working with**"
   ]
  },
  {
   "cell_type": "code",
   "execution_count": 84,
   "id": "9c5ba0d8",
   "metadata": {},
   "outputs": [
    {
     "name": "stdout",
     "output_type": "stream",
     "text": [
      "[[\"Gene_ID\", \"Gene_name\", \"mutant_phenotype\"], [\"AT1G69120\", \"ap1\", \"meristems replace first and second whorl\"], [\"AT4G36920\", \"ap2\", \"first whorl carpels, second whorl stamens\"], [\"AT3G54340\", \"ap3\", \"second whorl sepals, third whorl carpels\"], [\"AT1G30950\", \"ufo\", \"second whorl sepaloidy, third whorl missing or carpeloid\"], [\"AT5G20240\", \"pi\", \"second whorl sepals, third whorl carpels\"]]\n"
     ]
    },
    {
     "data": {
      "text/plain": [
       "[[\"Gene_ID\", \"Gene_name\", \"mutant_phenotype\"], [\"AT1G69120\", \"ap1\", \"meristems replace first and second whorl\"], [\"AT4G36920\", \"ap2\", \"first whorl carpels, second whorl stamens\"], [\"AT3G54340\", \"ap3\", \"second whorl sepals, third whorl carpels\"], [\"AT1G30950\", \"ufo\", \"second whorl sepaloidy, third whorl missing or carpeloid\"], [\"AT5G20240\", \"pi\", \"second whorl sepals, third whorl carpels\"]]"
      ]
     },
     "execution_count": 84,
     "metadata": {},
     "output_type": "execute_result"
    }
   ],
   "source": [
    "require 'csv'\n",
    "gene_information = CSV.read(\"StockDatabaseDataFiles/gene_information.tsv\", col_sep: \"\\t\")\n",
    "p gene_information"
   ]
  },
  {
   "cell_type": "code",
   "execution_count": 85,
   "id": "ff459dde",
   "metadata": {},
   "outputs": [
    {
     "name": "stdout",
     "output_type": "stream",
     "text": [
      "[\"Parent1\", \"Parent2\", \"F2_Wild\", \"F2_P1\", \"F2_P2\", \"F2_P1P2\"]\n",
      "[\"A334\", \"A348\", \"110\", \"33\", \"38\", \"11\"]\n",
      "[\"A348\", \"B3334\", \"80\", \"26\", \"29\", \"8\"]\n",
      "[\"B3334\", \"A51\", \"99\", \"36\", \"34\", \"12\"]\n",
      "[\"A51\", \"B52\", \"152\", \"26\", \"22\", \"2\"]\n",
      "[\"B52\", \"A334\", \"75\", \"22\", \"30\", \"7\"]\n",
      " \n",
      "[\"Gene_ID\", \"Gene_name\", \"mutant_phenotype\"]\n",
      "[\"AT1G69120\", \"ap1\", \"meristems replace first and second whorl\"]\n",
      "[\"AT4G36920\", \"ap2\", \"first whorl carpels, second whorl stamens\"]\n",
      "[\"AT3G54340\", \"ap3\", \"second whorl sepals, third whorl carpels\"]\n",
      "[\"AT1G30950\", \"ufo\", \"second whorl sepaloidy, third whorl missing or carpeloid\"]\n",
      "[\"AT5G20240\", \"pi\", \"second whorl sepals, third whorl carpels\"]\n",
      " \n",
      "[\"Seed_Stock\", \"Mutant_Gene_ID\", \"Last_Planted\", \"Storage\", \"Grams_Remaining\"]\n",
      "[\"A334\", \"AT1G69120\", \"5/7/2014\", \"cama2\", \"28\"]\n",
      "[\"A348\", \"AT4G36920\", \"3/11/2013\", \"cama25\", \"12\"]\n",
      "[\"B3334\", \"AT3G54340\", \"1/12/2014\", \"cama18\", \"22\"]\n",
      "[\"A51\", \"AT1G30950\", \"9/2/2013\", \"cama25\", \"5\"]\n",
      "[\"B52\", \"AT5G20240\", \"8/11/2012\", \"cama16\", \"7\"]\n"
     ]
    }
   ],
   "source": [
    "#CITATION: Code adapted from\n",
    "#https://linuxtut.com/how-to-handle-tsv-files-and-csv-files-in-ruby-b8798/\n",
    "\n",
    "require 'csv'\n",
    "cross_data=\"StockDatabaseDataFiles/cross_data.tsv\"\n",
    "\n",
    "CSV.foreach(cross_data, col_sep: \"\\t\") do |line|\n",
    " p line\n",
    "end\n",
    "\n",
    "puts \" \"\n",
    "\n",
    "gene_information=\"StockDatabaseDataFiles/gene_information.tsv\"\n",
    "\n",
    "CSV.foreach(gene_information, col_sep: \"\\t\") do |line|\n",
    " p line\n",
    "end\n",
    "\n",
    "puts \" \"\n",
    "\n",
    "seed_stock_data=\"StockDatabaseDataFiles/seed_stock_data.tsv\"\n",
    "\n",
    "CSV.foreach(seed_stock_data, col_sep: \"\\t\") do |line|\n",
    " p line\n",
    "end\n",
    "\n"
   ]
  },
  {
   "cell_type": "markdown",
   "id": "381a59dd",
   "metadata": {},
   "source": [
    "1) \"simulate\" planting 7 grams of seeds from each of the records in the seed stock genebank\n",
    "then you should update the genebank information to show the new quantity of seeds\n",
    "that remain after a planting. The new state of the genebank\n",
    "should be printed to a new file, using exactly the same format as the\n",
    "original file seed_stock_data.tsv\n",
    "\n",
    "-- if the amount of seed is reduced to zero or less than zero, then\n",
    "a friendly warning message should appear on the screen. The amount\n",
    "of seed left in the gene bank is, of course, not LESS than zero"
   ]
  },
  {
   "cell_type": "code",
   "execution_count": 82,
   "id": "0b156d2d",
   "metadata": {},
   "outputs": [
    {
     "data": {
      "text/plain": [
       "#<Class:0x000055cb9dadd1d0>::SeedStock"
      ]
     },
     "execution_count": 82,
     "metadata": {},
     "output_type": "execute_result"
    }
   ],
   "source": [
    "#Create A Class for the SeedStock\n",
    "#Substract 7 t0 \"Grams_Remaining\"\n",
    "#Print to a newfile the new state of the seed amounts, using the same format\n",
    "#Minimum number of seed is 0, cannot be lower!\n",
    "#if the number is 0, warning message\n",
    "\n",
    "require 'csv'\n",
    "\n",
    "# Create a class to represent the SeedStock data\n",
    "class SeedStock\n",
    "  attr_accessor :seed, :gene_id, :last_planted, :storage, :grams_remaining\n",
    "\n",
    "  def initialize(seed, gene_id, last_planted, storage, grams_remaining)\n",
    "    # Initialize the instance variables with the provided data\n",
    "    @seed = seed\n",
    "    @gene_id = gene_id\n",
    "    @last_planted = last_planted\n",
    "    @storage = storage\n",
    "    @grams_remaining = grams_remaining.to_i\n",
    "  end\n",
    "\n",
    "  def planting_simulation(amount)\n",
    "    # Subtract 'amount' grams from the remaining grams\n",
    "    @grams_remaining -= amount\n",
    "    # Ensure the remaining grams can't be negative\n",
    "    @grams_remaining = [0, @grams_remaining].max\n",
    "    # Warning if the remaining grams become zero \n",
    "    puts \"WARNING: we have run out of Seed Stock #{@seed}\" if @grams_remaining == 0\n",
    "  end\n",
    "\n",
    "  def to_csv\n",
    "    # Method to convert the object's data to a CSV row\n",
    "    [@seed, @gene_id, @last_planted, @storage, @grams_remaining]\n",
    "  end\n",
    "end\n",
    "\n",
    "SeedStock\n",
    "\n"
   ]
  },
  {
   "cell_type": "code",
   "execution_count": 83,
   "id": "b123da9b",
   "metadata": {},
   "outputs": [
    {
     "name": "stdout",
     "output_type": "stream",
     "text": [
      "WARNING: we have run out of Seed Stock A51\n",
      "WARNING: we have run out of Seed Stock B52\n",
      "Data saved to new_stock_file.tsv\n"
     ]
    }
   ],
   "source": [
    "# Specify the path to the input TSV file\n",
    "input_file = 'StockDatabaseDataFiles/seed_stock_data.tsv'\n",
    "\n",
    "# Create an array to hold instances of SeedStock\n",
    "seed_stocks = []\n",
    "\n",
    "# Read the data from the input file\n",
    "CSV.foreach(input_file, col_sep: \"\\t\", headers: true) do |row|\n",
    "  # Create a SeedStock object for each row and store it in the array\n",
    "  seed_stock = SeedStock.new(row['Seed_Stock'], row['Mutant_Gene_ID'], row['Last_Planted'], row['Storage'], row['Grams_Remaining'])\n",
    "  seed_stocks << seed_stock\n",
    "end\n",
    "\n",
    "# Simulate planting 7 grams of seeds and update the gene bank information\n",
    "seed_stocks.each { |seed_stock| seed_stock.planting_simulation(7) }\n",
    "\n",
    "# Specify the path to the output TSV file\n",
    "output_file = 'new_stock_file.tsv'\n",
    "\n",
    "# Write the updated data to the output file\n",
    "CSV.open(output_file, 'w', col_sep: \"\\t\") do |csv|\n",
    "  # Write the header row\n",
    "  csv << ['Seed_Stock', 'Mutant_Gene_ID', 'Last_Planted', 'Storage', 'Grams_Remaining']\n",
    "  # Write the data for each SeedStock object to the file\n",
    "  seed_stocks.each { |seed_stock| csv << seed_stock.to_csv }\n",
    "end\n",
    "\n",
    "puts \"Data saved to #{output_file}\""
   ]
  }
 ],
 "metadata": {
  "kernelspec": {
   "display_name": "Ruby 3.0.0",
   "language": "ruby",
   "name": "ruby"
  },
  "language_info": {
   "file_extension": ".rb",
   "mimetype": "application/x-ruby",
   "name": "ruby",
   "version": "3.0.0"
  }
 },
 "nbformat": 4,
 "nbformat_minor": 5
}
