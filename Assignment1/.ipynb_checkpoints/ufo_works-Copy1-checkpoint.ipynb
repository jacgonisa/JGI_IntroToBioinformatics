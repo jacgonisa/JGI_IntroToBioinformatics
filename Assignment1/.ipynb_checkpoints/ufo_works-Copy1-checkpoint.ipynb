{
 "cells": [
  {
   "cell_type": "code",
   "execution_count": 1,
   "id": "45e190c3",
   "metadata": {},
   "outputs": [
    {
     "data": {
      "text/plain": [
       "true"
      ]
     },
     "execution_count": 1,
     "metadata": {},
     "output_type": "execute_result"
    }
   ],
   "source": [
    "\n",
    "require 'csv'\n",
    "require 'distribution'"
   ]
  },
  {
   "cell_type": "code",
   "execution_count": 40,
   "id": "5413e616",
   "metadata": {},
   "outputs": [
    {
     "data": {
      "text/plain": [
       ":set_gene_name"
      ]
     },
     "execution_count": 40,
     "metadata": {},
     "output_type": "execute_result"
    }
   ],
   "source": [
    "class SeedStock\n",
    "  attr_accessor :seed, :gene_id, :last_planted, :storage, :grams_remaining\n",
    "\n",
    "  def initialize(seed, gene_id, last_planted, storage, grams_remaining)\n",
    "    @seed = seed\n",
    "    @gene_id = gene_id\n",
    "    @last_planted = last_planted\n",
    "    @storage = storage\n",
    "    @grams_remaining = grams_remaining.to_i\n",
    "    \n",
    "  end\n",
    "\n",
    "  def planting_simulation(amount)\n",
    "    @grams_remaining -= amount\n",
    "    @grams_remaining = [0, @grams_remaining].max\n",
    "    puts \"WARNING: we have run out of Seed Stock #{@seed}\" if @grams_remaining == 0\n",
    "  end\n",
    "\n",
    "  def to_csv\n",
    "    [@seed, @gene_id, @last_planted, @storage, @grams_remaining]\n",
    "  end\n",
    "  \n",
    "  def set_gene_name(gene_name)\n",
    "    @gene_name = gene_name\n",
    "  end\n",
    "\n",
    "end"
   ]
  },
  {
   "cell_type": "code",
   "execution_count": 42,
   "id": "c843e13b",
   "metadata": {},
   "outputs": [
    {
     "name": "stdout",
     "output_type": "stream",
     "text": [
      "Final Report:\n",
      " is linked to  with chi-squared score 32.2794279\n"
     ]
    },
    {
     "data": {
      "text/plain": [
       "[#<#<Class:0x000055fa378df388>::HybridCross:0x000055fa37874100 @parent1=\"A51\", @parent2=\"B52\", @f2_wild=152, @f2_p1=26, @f2_p2=22, @f2_p1p2=2, @seed_stock_parent1=#<#<Class:0x000055fa378df388>::SeedStock:0x000055fa3787ce68 @seed=\"A51\", @gene_id=\"AT1G30950\", @last_planted=\"9/2/2013\", @storage=\"cama25\", @grams_remaining=5>, @seed_stock_parent2=#<#<Class:0x000055fa378df388>::SeedStock:0x000055fa3787cb70 @seed=\"B52\", @gene_id=\"AT5G20240\", @last_planted=\"8/11/2012\", @storage=\"cama16\", @grams_remaining=7>, @chi_squared=32.27942794279428, @statistically_significant=true>]"
      ]
     },
     "execution_count": 42,
     "metadata": {},
     "output_type": "execute_result"
    }
   ],
   "source": []
  },
  {
   "cell_type": "code",
   "execution_count": 38,
   "id": "d8637f94",
   "metadata": {},
   "outputs": [
    {
     "data": {
      "text/plain": [
       ":initialize"
      ]
     },
     "execution_count": 38,
     "metadata": {},
     "output_type": "execute_result"
    }
   ],
   "source": [
    "class Gene\n",
    "  attr_accessor :gene_id, :gene_name, :mutant_phenotype\n",
    "\n",
    "  def initialize(gene_id, gene_name, mutant_phenotype)\n",
    "    @gene_id = gene_id\n",
    "    @gene_name = gene_name\n",
    "    @mutant_phenotype = mutant_phenotype\n",
    "  end\n",
    "end"
   ]
  },
  {
   "cell_type": "code",
   "execution_count": 28,
   "id": "03c52aa7",
   "metadata": {},
   "outputs": [
    {
     "data": {
      "text/plain": [
       ":chi_squared_test"
      ]
     },
     "execution_count": 28,
     "metadata": {},
     "output_type": "execute_result"
    }
   ],
   "source": [
    "class HybridCross\n",
    "  attr_accessor :parent1, :parent2, :f2_wild, :f2_p1, :f2_p2, :f2_p1p2\n",
    "  attr_accessor :seed_stock_parent1, :seed_stock_parent2\n",
    "  attr_accessor :chi_squared, :statistically_significant\n",
    "\n",
    "  def initialize(parent1, parent2, f2_wild, f2_p1, f2_p2, f2_p1p2)\n",
    "    @parent1 = parent1\n",
    "    @parent2 = parent2\n",
    "    @f2_wild = f2_wild.to_i\n",
    "    @f2_p1 = f2_p1.to_i\n",
    "    @f2_p2 = f2_p2.to_i\n",
    "    @f2_p1p2 = f2_p1p2.to_i\n",
    "    @seed_stock_parent1 = nil\n",
    "    @seed_stock_parent2 = nil\n",
    "    @chi_squared = 0.0\n",
    "    @statistically_significant = false\n",
    "  end\n",
    "\n",
    "  def link_to_seed_stocks(seed_stocks)\n",
    "    @seed_stock_parent1 = seed_stocks.find { |seed_stock| seed_stock.seed == parent1 }\n",
    "    @seed_stock_parent2 = seed_stocks.find { |seed_stock| seed_stock.seed == parent2 }\n",
    "  end\n",
    "  \n",
    "  def link_to_gene_name(gene_data)\n",
    "    @seed_stock_parent1.gene_name = gene_data[@seed_stock_parent1.gene_id]\n",
    "    @seed_stock_parent2.gene_name = gene_data[@seed_stock_parent2.gene_id]\n",
    "  end\n",
    "\n",
    "  def chi_squared_test\n",
    "    observed_counts = [f2_wild, f2_p1, f2_p2, f2_p1p2]\n",
    "    total_observations = observed_counts.sum\n",
    "\n",
    "    expected_counts = [\n",
    "      total_observations * 9 / 16.0,\n",
    "      total_observations * 3 / 16.0,\n",
    "      total_observations * 3 / 16.0,\n",
    "      total_observations * 1 / 16.0\n",
    "    ]\n",
    "\n",
    "    @chi_squared = observed_counts.zip(expected_counts).sum do |observed, expected|\n",
    "      ((observed - expected)**2) / expected\n",
    "    end\n",
    "\n",
    "    degrees_of_freedom = observed_counts.size - 1\n",
    "    p_value = 1 - Distribution::ChiSquare.cdf(@chi_squared, degrees_of_freedom)\n",
    "\n",
    "    @statistically_significant = p_value < 0.05\n",
    "    @chi_squared\n",
    "  end\n",
    "end\n"
   ]
  },
  {
   "cell_type": "code",
   "execution_count": 31,
   "id": "dce77cfb",
   "metadata": {},
   "outputs": [
    {
     "name": "stdout",
     "output_type": "stream",
     "text": [
      " \n",
      "Recording:\n",
      "AT1G30950 is linked to AT5G20240 with chi-squared score 32.2794279\n",
      "\n",
      "Final Report:\n",
      "AT1G30950 is linked to AT5G20240\n",
      "AT5G20240 is linked to AT1G30950\n"
     ]
    },
    {
     "data": {
      "text/plain": [
       "[#<#<Class:0x000055fa378df388>::HybridCross:0x000055fa37874100 @parent1=\"A51\", @parent2=\"B52\", @f2_wild=152, @f2_p1=26, @f2_p2=22, @f2_p1p2=2, @seed_stock_parent1=#<#<Class:0x000055fa378df388>::SeedStock:0x000055fa3787ce68 @seed=\"A51\", @gene_id=\"AT1G30950\", @last_planted=\"9/2/2013\", @storage=\"cama25\", @grams_remaining=5>, @seed_stock_parent2=#<#<Class:0x000055fa378df388>::SeedStock:0x000055fa3787cb70 @seed=\"B52\", @gene_id=\"AT5G20240\", @last_planted=\"8/11/2012\", @storage=\"cama16\", @grams_remaining=7>, @chi_squared=32.27942794279428, @statistically_significant=true>]"
      ]
     },
     "execution_count": 31,
     "metadata": {},
     "output_type": "execute_result"
    }
   ],
   "source": [
    "\n",
    "# Read data from seed_stock.tsv\n",
    "seed_stock_data = CSV.read('StockDatabaseDataFiles/seed_stock_data.tsv', col_sep: \"\\t\", headers: true)\n",
    "seed_stocks = seed_stock_data.map do |row|\n",
    "  SeedStock.new(row['Seed_Stock'], row['Mutant_Gene_ID'], row['Last_Planted'], row['Storage'], row['Grams_Remaining'])\n",
    "end\n",
    "\n",
    "# Read data from cross_data.tsv\n",
    "cross_data = CSV.read('StockDatabaseDataFiles/cross_data.tsv', col_sep: \"\\t\", headers: true)\n",
    "\n",
    "# Create an array to store instances of the HybridCross class\n",
    "hybrid_crosses = []\n",
    "\n",
    "# Iterate through the CSV data and create instances of HybridCross\n",
    "cross_data.each do |row|\n",
    "  hybrid_cross = HybridCross.new(\n",
    "    row['Parent1'],\n",
    "    row['Parent2'],\n",
    "    row['F2_Wild'],\n",
    "    row['F2_P1'],\n",
    "    row['F2_P2'],\n",
    "    row['F2_P1P2']\n",
    "  )\n",
    "  hybrid_cross.link_to_seed_stocks(seed_stocks)\n",
    "  chi_squared = hybrid_cross.chi_squared_test\n",
    "  hybrid_cross.chi_squared = chi_squared\n",
    "  hybrid_crosses << hybrid_cross\n",
    "end\n",
    "\n",
    "# Find statistically significant genes and store them\n",
    "statistically_significant_genes = hybrid_crosses.select { |gene| gene.statistically_significant }\n",
    "\n",
    "puts \" \"\n",
    "# Print the names of statistically significant genes\n",
    "puts \"Recording:\"\n",
    "statistically_significant_genes.each do |gene|\n",
    "  parent1_gene_id = gene.seed_stock_parent1.gene_id\n",
    "  parent2_gene_id = gene.seed_stock_parent2.gene_id\n",
    "  chi_squared = gene.chi_squared\n",
    "  puts \"#{parent1_gene_id} is linked to #{parent2_gene_id} with chi-squared score #{format('%.7f', chi_squared)}\"\n",
    "\n",
    "puts\n",
    "puts \"Final Report:\"\n",
    "\n",
    "  puts \"#{parent1_gene_id} is linked to #{parent2_gene_id}\"\n",
    "  \n",
    "\n",
    "  # Add the reverse direction as well\n",
    "  puts \"#{parent2_gene_id} is linked to #{parent1_gene_id}\"\n",
    "  \n",
    "end\n"
   ]
  },
  {
   "cell_type": "code",
   "execution_count": 49,
   "id": "bc5b8fc8",
   "metadata": {},
   "outputs": [
    {
     "name": "stdout",
     "output_type": "stream",
     "text": [
      "Final Report:\n",
      "ufo is linked to pi with chi-squared score 32.2794279\n"
     ]
    },
    {
     "data": {
      "text/plain": [
       "[#<#<Class:0x000055fa378df388>::HybridCross:0x000055fa37376ea0 @parent1=\"A51\", @parent2=\"B52\", @f2_wild=152, @f2_p1=26, @f2_p2=22, @f2_p1p2=2, @seed_stock_parent1=#<#<Class:0x000055fa378df388>::SeedStock:0x000055fa371056d0 @seed=\"A51\", @gene_id=\"AT1G30950\", @last_planted=\"9/2/2013\", @storage=\"cama25\", @grams_remaining=5, @gene_name=\"ufo\">, @seed_stock_parent2=#<#<Class:0x000055fa378df388>::SeedStock:0x000055fa37105248 @seed=\"B52\", @gene_id=\"AT5G20240\", @last_planted=\"8/11/2012\", @storage=\"cama16\", @grams_remaining=7, @gene_name=\"pi\">, @chi_squared=32.27942794279428, @statistically_significant=true>]"
      ]
     },
     "execution_count": 49,
     "metadata": {},
     "output_type": "execute_result"
    }
   ],
   "source": [
    "# Create a hash to store the mapping of gene_id to gene_name\n",
    "gene_id_to_gene_name = {}\n",
    "\n",
    "# Read data from gene_information.tsv and create a mapping\n",
    "gene_info_data = CSV.read('StockDatabaseDataFiles/gene_information.tsv', col_sep: \"\\t\", headers: true)\n",
    "gene_id_to_gene_name = {}\n",
    "gene_info_data.each do |row|\n",
    "  gene_id = row['Gene_ID']\n",
    "  gene_name = row['Gene_name']\n",
    "  gene_id_to_gene_name[gene_id] = gene_name\n",
    "end\n",
    "\n",
    "# Read data from seed_stock.tsv and link with gene names\n",
    "seed_stock_data = CSV.read('StockDatabaseDataFiles/seed_stock_data.tsv', col_sep: \"\\t\", headers: true)\n",
    "seed_stocks = seed_stock_data.map do |row|\n",
    "  gene_id = row['Mutant_Gene_ID']\n",
    "  gene_name = gene_id_to_gene_name[gene_id]\n",
    "  seed_stock = SeedStock.new(row['Seed_Stock'], gene_id, row['Last_Planted'], row['Storage'], row['Grams_Remaining'])\n",
    "  seed_stock.set_gene_name(gene_name) # Set the gene name separately\n",
    "  seed_stock\n",
    "end\n",
    "\n",
    "# Read data from cross_data.tsv\n",
    "cross_data = CSV.read('StockDatabaseDataFiles/cross_data.tsv', col_sep: \"\\t\", headers: true)\n",
    "\n",
    "# Create an array to store instances of the HybridCross class\n",
    "hybrid_crosses = []\n",
    "\n",
    "# Iterate through the CSV data and create instances of HybridCross\n",
    "cross_data.each do |row|\n",
    "  hybrid_cross = HybridCross.new(\n",
    "    row['Parent1'],\n",
    "    row['Parent2'],\n",
    "    row['F2_Wild'],\n",
    "    row['F2_P1'],\n",
    "    row['F2_P2'],\n",
    "    row['F2_P1P2']\n",
    "  )\n",
    "  hybrid_cross.link_to_seed_stocks(seed_stocks)\n",
    "  chi_squared = hybrid_cross.chi_squared_test\n",
    "  hybrid_cross.chi_squared = chi_squared\n",
    "  hybrid_crosses << hybrid_cross\n",
    "end\n",
    "\n",
    "# Link gene names to hybrid crosses\n",
    "statistically_significant_genes = hybrid_crosses.select { |gene| gene.statistically_significant }\n",
    "\n",
    "puts \"Final Report:\"\n",
    "statistically_significant_genes.each do |gene|\n",
    "  parent1_gene_name = gene.seed_stock_parent1.gene_name\n",
    "  parent2_gene_name = gene.seed_stock_parent2.gene_name\n",
    "  chi_squared = gene.chi_squared\n",
    "  puts \"#{parent1_gene_name} is linked to #{parent2_gene_name} with chi-squared score #{format('%.7f', chi_squared)}\"\n",
    "end\n"
   ]
  }
 ],
 "metadata": {
  "kernelspec": {
   "display_name": "Ruby 3.0.0",
   "language": "ruby",
   "name": "ruby"
  },
  "language_info": {
   "file_extension": ".rb",
   "mimetype": "application/x-ruby",
   "name": "ruby",
   "version": "3.0.0"
  }
 },
 "nbformat": 4,
 "nbformat_minor": 5
}
