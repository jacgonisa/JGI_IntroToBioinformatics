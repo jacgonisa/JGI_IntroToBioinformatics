{
 "cells": [
  {
   "cell_type": "code",
   "execution_count": 16,
   "id": "7887d76a",
   "metadata": {},
   "outputs": [
    {
     "data": {
      "text/plain": [
       "true"
      ]
     },
     "execution_count": 16,
     "metadata": {},
     "output_type": "execute_result"
    }
   ],
   "source": [
    "require 'csv'\n",
    "require 'distribution'"
   ]
  },
  {
   "cell_type": "code",
   "execution_count": 7,
   "id": "ef17f262",
   "metadata": {},
   "outputs": [
    {
     "data": {
      "text/plain": [
       ":to_csv"
      ]
     },
     "execution_count": 7,
     "metadata": {},
     "output_type": "execute_result"
    }
   ],
   "source": [
    "require 'csv'\n",
    "\n",
    "class SeedStock\n",
    "  attr_accessor :seed, :gene_id, :last_planted, :storage, :grams_remaining\n",
    "\n",
    "  def initialize(seed, gene_id, last_planted, storage, grams_remaining)\n",
    "    @seed = seed\n",
    "    @gene_id = gene_id\n",
    "    @last_planted = last_planted\n",
    "    @storage = storage\n",
    "    @grams_remaining = grams_remaining.to_i\n",
    "  end\n",
    "\n",
    "  # Class method to load data from a file and return an array of SeedStock objects\n",
    "  def self.load_from_file(file_path)\n",
    "    seed_stocks = []\n",
    "    CSV.foreach(file_path, col_sep: \"\\t\", headers: true) do |row|\n",
    "      seed_stock = SeedStock.new(row['Seed_Stock'], row['Mutant_Gene_ID'], row['Last_Planted'], row['Storage'], row['Grams_Remaining'])\n",
    "      seed_stocks << seed_stock\n",
    "    end\n",
    "    seed_stocks\n",
    "  end\n",
    "\n",
    "  # Simulate planting 7 grams of seeds for all SeedStock objects\n",
    "  def self.planting_simulation(seed_stocks, amount)\n",
    "    seed_stocks.each do |seed_stock|\n",
    "      seed_stock.planting_simulation(amount)\n",
    "    end\n",
    "  end\n",
    "\n",
    "  # Write the database to a new file\n",
    "  def self.write_database(seed_stocks, output_file)\n",
    "    CSV.open(output_file, 'w', col_sep: \"\\t\") do |csv|\n",
    "      # Write the header row\n",
    "      csv << ['Seed_Stock', 'Mutant_Gene_ID', 'Last_Planted', 'Storage', 'Grams_Remaining']\n",
    "      # Write the data for each SeedStock object to the file\n",
    "      seed_stocks.each { |seed_stock| csv << seed_stock.to_csv }\n",
    "    end\n",
    "    puts \"Data saved to #{output_file}\"\n",
    "  end\n",
    "\n",
    "  def planting_simulation(amount)\n",
    "    @grams_remaining -= amount\n",
    "    @grams_remaining = [0, @grams_remaining].max\n",
    "    @last_planted = Time.now.strftime('%m/%d/%Y')  # Update the last_planted date to today  \n",
    "    puts \"WARNING: we have run out of Seed Stock #{@seed}\" if @grams_remaining == 0\n",
    "  end\n",
    "\n",
    "  def to_csv\n",
    "    [@seed, @gene_id, @last_planted, @storage, @grams_remaining]\n",
    "  end\n",
    "end"
   ]
  },
  {
   "cell_type": "code",
   "execution_count": 8,
   "id": "1c2c900f",
   "metadata": {},
   "outputs": [
    {
     "data": {
      "text/plain": [
       ":valid_gene_id?"
      ]
     },
     "execution_count": 8,
     "metadata": {},
     "output_type": "execute_result"
    }
   ],
   "source": [
    "class Gene\n",
    "  attr_accessor :gene_id, :gene_name, :mutant_phenotype\n",
    "\n",
    "  def initialize(gene_id, gene_name, mutant_phenotype)\n",
    "    if valid_gene_id?(gene_id)\n",
    "      @gene_id = gene_id\n",
    "      @gene_name = gene_name\n",
    "      @mutant_phenotype = mutant_phenotype\n",
    "    else\n",
    "      puts \"Error: Invalid gene ID format\"\n",
    "    end\n",
    "  end\n",
    "\n",
    "  def self.build_gene_id_to_gene_name_mapping\n",
    "    gene_info_data = CSV.read('StockDatabaseDataFiles/gene_information.tsv', col_sep: \"\\t\", headers: true)\n",
    "    gene_id_to_gene_name = {}\n",
    "    gene_info_data.each do |row|\n",
    "      gene_id = row['Gene_ID']\n",
    "      gene_name = row['Gene_name']\n",
    "      gene_id_to_gene_name[gene_id] = gene_name\n",
    "    end\n",
    "    gene_id_to_gene_name\n",
    "  end\n",
    "\n",
    "  private\n",
    "\n",
    "  def valid_gene_id?(gene_id)\n",
    "    gene_id.match(/A[Tt]\\d[Gg]\\d\\d\\d\\d\\d/)\n",
    "  end\n",
    "end\n"
   ]
  },
  {
   "cell_type": "code",
   "execution_count": 12,
   "id": "818f11ea",
   "metadata": {},
   "outputs": [
    {
     "data": {
      "text/plain": [
       "false"
      ]
     },
     "execution_count": 12,
     "metadata": {},
     "output_type": "execute_result"
    }
   ],
   "source": [
    "require './HybridCross_object.rb'"
   ]
  },
  {
   "cell_type": "code",
   "execution_count": 18,
   "id": "55316d9d",
   "metadata": {},
   "outputs": [
    {
     "ename": "NoMethodError",
     "evalue": "undefined method `length=' for [\"/home/osboxes/.local/share/jupyter/runtime/kernel-654ade5c-3b42-4193-8e14-122bcc9b62a1.json\"]:Array",
     "output_type": "error",
     "traceback": [
      "\u001b[31mNoMethodError\u001b[0m: undefined method `length=' for [\"/home/osboxes/.local/share/jupyter/runtime/kernel-654ade5c-3b42-4193-8e14-122bcc9b62a1.json\"]:Array",
      "(irb):1:in `<top (required)>'"
     ]
    }
   ],
   "source": [
    "# Check if the correct number of arguments is provided\n",
    "unless ARGV.length = 4\n",
    "  puts \"Usage: ruby process_database_Jacob.rb gene_information.tsv seed_stock_data.tsv cross_data.tsv new_stock_file.tsv\"\n",
    "  abort\n",
    "end\n",
    "\n",
    "# Assign the input file names to variables\n",
    "gene_information_file, seed_stock_data_file, cross_data_file, output_file = ARGV\n"
   ]
  },
  {
   "cell_type": "code",
   "execution_count": 13,
   "id": "402b1eba",
   "metadata": {},
   "outputs": [
    {
     "name": "stdout",
     "output_type": "stream",
     "text": [
      "WARNING: we have run out of Seed Stock A51\n",
      "WARNING: we have run out of Seed Stock B52\n",
      "Data saved to mynew_stock_file.tsv\n"
     ]
    }
   ],
   "source": [
    "# Create an array of SeedStock objects by loading data from the file\n",
    "my_seed_stock = SeedStock.load_from_file('StockDatabaseDataFiles/seed_stock_data.tsv')\n",
    "\n",
    "# Simulate planting 7 grams of seeds for all SeedStock objects\n",
    "SeedStock.planting_simulation(my_seed_stock, 7)\n",
    "\n",
    "# Specify the path to the output TSV file\n",
    "output_file = 'mynew_stock_file.tsv'\n",
    "\n",
    "# Use the class method to write the data to the output file\n",
    "SeedStock.write_database(my_seed_stock, output_file)\n",
    "\n"
   ]
  },
  {
   "cell_type": "code",
   "execution_count": 17,
   "id": "7cd4c2b0",
   "metadata": {},
   "outputs": [
    {
     "name": "stdout",
     "output_type": "stream",
     "text": [
      "Recording:\n",
      "ufo is linked to pi with chi-squared score 32.2794279\n",
      "\n",
      "Final Report:\n",
      "ufo is linked to pi\n",
      "pi is linked to ufo\n"
     ]
    },
    {
     "data": {
      "text/plain": [
       "[#<HybridCross:0x0000557ebaea5d10 @parent1=\"A51\", @parent2=\"B52\", @f2_wild=152, @f2_p1=26, @f2_p2=22, @f2_p1p2=2, @seed_stock_parent1=#<#<Class:0x0000557ebb903730>::SeedStock:0x0000557ebaf33c00 @seed=\"A51\", @gene_id=\"AT1G30950\", @last_planted=\"9/2/2013\", @storage=\"cama25\", @grams_remaining=5>, @seed_stock_parent2=#<#<Class:0x0000557ebb903730>::SeedStock:0x0000557ebaf33390 @seed=\"B52\", @gene_id=\"AT5G20240\", @last_planted=\"8/11/2012\", @storage=\"cama16\", @grams_remaining=7>, @chi_squared=32.27942794279428, @statistically_significant=true, @gene_name_parent1=\"ufo\", @gene_name_parent2=\"pi\">]"
      ]
     },
     "execution_count": 17,
     "metadata": {},
     "output_type": "execute_result"
    }
   ],
   "source": [
    "# Read data from seed_stock.tsv AND link with gene names\n",
    "seed_stock_data = CSV.read('StockDatabaseDataFiles/seed_stock_data.tsv', col_sep: \"\\t\", headers: true)\n",
    "seed_stocks = seed_stock_data.map do |row|\n",
    "  gene_id = row['Mutant_Gene_ID']\n",
    "  seed_stock = SeedStock.new(row['Seed_Stock'], gene_id, row['Last_Planted'], row['Storage'], row['Grams_Remaining'])\n",
    "  seed_stock\n",
    "end\n",
    "\n",
    "# Read data from cross_data.tsv\n",
    "cross_data = CSV.read('StockDatabaseDataFiles/cross_data.tsv', col_sep: \"\\t\", headers: true)\n",
    "\n",
    "# Create an array to store instances of the HybridCross class\n",
    "hybrid_crosses = []\n",
    "\n",
    "# Get the gene_id to gene_name mapping using the class method\n",
    "gene_id_to_gene_name = Gene.build_gene_id_to_gene_name_mapping\n",
    "\n",
    "# Iterate through the CSV data and create instances of HybridCross\n",
    "cross_data.each do |row|\n",
    "  hybrid_cross = HybridCross.new(\n",
    "    row['Parent1'],\n",
    "    row['Parent2'],\n",
    "    row['F2_Wild'],\n",
    "    row['F2_P1'],\n",
    "    row['F2_P2'],\n",
    "    row['F2_P1P2']\n",
    "  )\n",
    "  hybrid_cross.link_to_seed_stocks_and_genes_names(seed_stocks, gene_id_to_gene_name)\n",
    "  chi_squared = hybrid_cross.chi_squared_test\n",
    "  hybrid_cross.chi_squared = chi_squared\n",
    "  hybrid_crosses << hybrid_cross\n",
    "end\n",
    "\n",
    "# Link gene names to hybrid crosses\n",
    "statistically_significant_genes = hybrid_crosses.select { |gene| gene.statistically_significant }\n",
    "\n",
    "puts \"Recording:\"\n",
    "statistically_significant_genes.each do |gene|\n",
    "  parent1_gene_name = gene.gene_name_parent1\n",
    "  parent2_gene_name = gene.gene_name_parent2\n",
    "  chi_squared = gene.chi_squared\n",
    "  puts \"#{parent1_gene_name} is linked to #{parent2_gene_name} with chi-squared score #{format('%.7f', chi_squared)}\"\n",
    "end\n",
    "\n",
    "puts\n",
    "puts \"Final Report:\"\n",
    "\n",
    "statistically_significant_genes.each do |gene|\n",
    "  parent1_gene_name = gene.gene_name_parent1\n",
    "  parent2_gene_name = gene.gene_name_parent2\n",
    "  puts \"#{parent1_gene_name} is linked to #{parent2_gene_name}\"\n",
    "  puts \"#{parent2_gene_name} is linked to #{parent1_gene_name}\"\n",
    "end"
   ]
  }
 ],
 "metadata": {
  "kernelspec": {
   "display_name": "Ruby 3.0.0",
   "language": "ruby",
   "name": "ruby"
  },
  "language_info": {
   "file_extension": ".rb",
   "mimetype": "application/x-ruby",
   "name": "ruby",
   "version": "3.0.0"
  }
 },
 "nbformat": 4,
 "nbformat_minor": 5
}
