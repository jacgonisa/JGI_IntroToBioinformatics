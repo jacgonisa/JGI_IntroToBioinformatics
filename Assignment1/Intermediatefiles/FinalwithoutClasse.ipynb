{
 "cells": [
  {
   "cell_type": "code",
   "execution_count": 1,
   "id": "7887d76a",
   "metadata": {},
   "outputs": [
    {
     "data": {
      "text/plain": [
       "true"
      ]
     },
     "execution_count": 1,
     "metadata": {},
     "output_type": "execute_result"
    }
   ],
   "source": [
    "require 'csv'\n",
    "require 'distribution'"
   ]
  },
  {
   "cell_type": "code",
   "execution_count": 2,
   "id": "ef17f262",
   "metadata": {},
   "outputs": [
    {
     "data": {
      "text/plain": [
       "true"
      ]
     },
     "execution_count": 2,
     "metadata": {},
     "output_type": "execute_result"
    }
   ],
   "source": [
    "require './SeedStock_object.rb'"
   ]
  },
  {
   "cell_type": "code",
   "execution_count": 8,
   "id": "1c2c900f",
   "metadata": {},
   "outputs": [
    {
     "data": {
      "text/plain": [
       "false"
      ]
     },
     "execution_count": 8,
     "metadata": {},
     "output_type": "execute_result"
    }
   ],
   "source": [
    "require './Gene_object.rb'"
   ]
  },
  {
   "cell_type": "code",
   "execution_count": 4,
   "id": "818f11ea",
   "metadata": {},
   "outputs": [
    {
     "data": {
      "text/plain": [
       "true"
      ]
     },
     "execution_count": 4,
     "metadata": {},
     "output_type": "execute_result"
    }
   ],
   "source": [
    "require './HybridCross_object.rb'"
   ]
  },
  {
   "cell_type": "code",
   "execution_count": 26,
   "id": "aaa2af2c",
   "metadata": {},
   "outputs": [
    {
     "name": "stdout",
     "output_type": "stream",
     "text": [
      "Data saved to new_stock_file.tsv\n"
     ]
    }
   ],
   "source": [
    "# Create an instance of the StockDatabase\n",
    "#seed_db = SeedStock.new\n",
    "\n",
    "# Load Seed Stock data from a file\n",
    "seed_db= SeedStock.load_from_file('StockDatabaseDataFiles/seed_stock_data.tsv')\n",
    "\n",
    "# Simulate planting 7 grams of seeds and update the gene bank information\n",
    "seed_db..planting_simulation(7)\n",
    "\n",
    "# Specify the path to the output TSV file\n",
    "output_file = 'new_stock_file.tsv'\n",
    "\n",
    "# Write the updated data to the output file using the StockDatabase\n",
    "seed_db.class.write_database(output_file)\n",
    "\n",
    "puts \"Data saved to #{output_file}\"\n"
   ]
  },
  {
   "cell_type": "code",
   "execution_count": 23,
   "id": "cde7e47c",
   "metadata": {},
   "outputs": [
    {
     "name": "stdout",
     "output_type": "stream",
     "text": [
      "WARNING: we have run out of Seed Stock A51\n",
      "WARNING: we have run out of Seed Stock B52\n",
      "Data saved to new_stock_file.tsv\n"
     ]
    }
   ],
   "source": [
    "# Create an array to hold instances of SeedStock\n",
    "seed_stocks = []\n",
    "\n",
    "# Read the data from the input file\n",
    "CSV.foreach('StockDatabaseDataFiles/seed_stock_data.tsv', col_sep: \"\\t\", headers: true) do |row|\n",
    "  # Create a SeedStock object for each row and store it in the array\n",
    "  seed_stock = SeedStock.new(row['Seed_Stock'], row['Mutant_Gene_ID'], row['Last_Planted'], row['Storage'], row['Grams_Remaining'])\n",
    "  seed_stocks << seed_stock\n",
    "end\n",
    "\n",
    "# Simulate planting 7 grams of seeds and update the gene bank information\n",
    "seed_stocks.each { |seed_stock| seed_stock.planting_simulation(7) }\n",
    "\n",
    "# Specify the path to the output TSV file\n",
    "output_file = 'new_stock_file.tsv'\n",
    "\n",
    "# Write the updated data to the output file\n",
    "CSV.open(output_file, 'w', col_sep: \"\\t\") do |csv|\n",
    "  # Write the header row\n",
    "  csv << ['Seed_Stock', 'Mutant_Gene_ID', 'Last_Planted', 'Storage', 'Grams_Remaining']\n",
    "  # Write the data for each SeedStock object to the file\n",
    "  seed_stocks.each { |seed_stock| csv << seed_stock.to_csv }\n",
    "end\n",
    "\n",
    "puts \"Data saved to #{output_file}\""
   ]
  },
  {
   "cell_type": "code",
   "execution_count": 12,
   "id": "7cd4c2b0",
   "metadata": {},
   "outputs": [
    {
     "ename": "NameError",
     "evalue": "uninitialized constant Gene",
     "output_type": "error",
     "traceback": [
      "\u001b[31mNameError\u001b[0m: uninitialized constant Gene",
      "(irb):15:in `<top (required)>'"
     ]
    }
   ],
   "source": [
    "# Read data from seed_stock.tsv and link with gene names\n",
    "seed_stock_data = CSV.read('StockDatabaseDataFiles/seed_stock_data.tsv', col_sep: \"\\t\", headers: true)\n",
    "seed_stocks = seed_stock_data.map do |row|\n",
    "  gene_id = row['Mutant_Gene_ID']\n",
    "  seed_stock = SeedStock.new(row['Seed_Stock'], gene_id, row['Last_Planted'], row['Storage'], row['Grams_Remaining'])\n",
    "  seed_stock\n",
    "end\n",
    "\n",
    "# Read data from cross_data.tsv\n",
    "cross_data = CSV.read('StockDatabaseDataFiles/cross_data.tsv', col_sep: \"\\t\", headers: true)\n",
    "\n",
    "# Create an array to store instances of the HybridCross class\n",
    "hybrid_crosses = []\n",
    "\n",
    "# Get the gene_id to gene_name mapping using the class method\n",
    "gene_id_to_gene_name = Gene.build_gene_id_to_gene_name_mapping\n",
    "\n",
    "# Iterate through the CSV data and create instances of HybridCross\n",
    "cross_data.each do |row|\n",
    "  hybrid_cross = HybridCross.new(\n",
    "    row['Parent1'],\n",
    "    row['Parent2'],\n",
    "    row['F2_Wild'],\n",
    "    row['F2_P1'],\n",
    "    row['F2_P2'],\n",
    "    row['F2_P1P2']\n",
    "  )\n",
    "  hybrid_cross.link_to_seed_stocks_and_genes_names(seed_stocks, gene_id_to_gene_name)\n",
    "  chi_squared = hybrid_cross.chi_squared_test\n",
    "  hybrid_cross.chi_squared = chi_squared\n",
    "  hybrid_crosses << hybrid_cross\n",
    "end\n",
    "\n",
    "# Link gene names to hybrid crosses\n",
    "statistically_significant_genes = hybrid_crosses.select { |gene| gene.statistically_significant }\n",
    "\n",
    "puts \"Recording:\"\n",
    "statistically_significant_genes.each do |gene|\n",
    "  parent1_gene_name = gene.gene_name_parent1\n",
    "  parent2_gene_name = gene.gene_name_parent2\n",
    "  chi_squared = gene.chi_squared\n",
    "  puts \"#{parent1_gene_name} is linked to #{parent2_gene_name} with chi-squared score #{format('%.7f', chi_squared)}\"\n",
    "end\n",
    "\n",
    "puts\n",
    "puts \"Final Report:\"\n",
    "\n",
    "statistically_significant_genes.each do |gene|\n",
    "  parent1_gene_name = gene.gene_name_parent1\n",
    "  parent2_gene_name = gene.gene_name_parent2\n",
    "  puts \"#{parent1_gene_name} is linked to #{parent2_gene_name}\"\n",
    "  puts \"#{parent2_gene_name} is linked to #{parent1_gene_name}\"\n",
    "end"
   ]
  }
 ],
 "metadata": {
  "kernelspec": {
   "display_name": "Ruby 3.0.0",
   "language": "ruby",
   "name": "ruby"
  },
  "language_info": {
   "file_extension": ".rb",
   "mimetype": "application/x-ruby",
   "name": "ruby",
   "version": "3.0.0"
  }
 },
 "nbformat": 4,
 "nbformat_minor": 5
}
