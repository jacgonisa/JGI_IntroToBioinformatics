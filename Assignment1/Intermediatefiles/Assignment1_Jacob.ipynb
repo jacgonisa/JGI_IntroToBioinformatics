{
 "cells": [
  {
   "cell_type": "code",
   "execution_count": 26,
   "id": "76a2a162",
   "metadata": {},
   "outputs": [
    {
     "data": {
      "text/plain": [
       "\"/home/osboxes/Desktop/Challenges/JGI_IntroToBioinformatics/Assignment1\""
      ]
     },
     "execution_count": 26,
     "metadata": {},
     "output_type": "execute_result"
    }
   ],
   "source": [
    "Dir.pwd"
   ]
  },
  {
   "cell_type": "markdown",
   "id": "8bb5d0d4",
   "metadata": {},
   "source": [
    " **Let's first read the files we are working with**"
   ]
  },
  {
   "cell_type": "code",
   "execution_count": 1,
   "id": "9c5ba0d8",
   "metadata": {},
   "outputs": [
    {
     "name": "stdout",
     "output_type": "stream",
     "text": [
      "[[\"Gene_ID\", \"Gene_name\", \"mutant_phenotype\"], [\"AT1G69120\", \"ap1\", \"meristems replace first and second whorl\"], [\"AT4G36920\", \"ap2\", \"first whorl carpels, second whorl stamens\"], [\"AT3G54340\", \"ap3\", \"second whorl sepals, third whorl carpels\"], [\"AT1G30950\", \"ufo\", \"second whorl sepaloidy, third whorl missing or carpeloid\"], [\"AT5G20240\", \"pi\", \"second whorl sepals, third whorl carpels\"]]\n"
     ]
    },
    {
     "data": {
      "text/plain": [
       "[[\"Gene_ID\", \"Gene_name\", \"mutant_phenotype\"], [\"AT1G69120\", \"ap1\", \"meristems replace first and second whorl\"], [\"AT4G36920\", \"ap2\", \"first whorl carpels, second whorl stamens\"], [\"AT3G54340\", \"ap3\", \"second whorl sepals, third whorl carpels\"], [\"AT1G30950\", \"ufo\", \"second whorl sepaloidy, third whorl missing or carpeloid\"], [\"AT5G20240\", \"pi\", \"second whorl sepals, third whorl carpels\"]]"
      ]
     },
     "execution_count": 1,
     "metadata": {},
     "output_type": "execute_result"
    }
   ],
   "source": [
    "require 'csv'\n",
    "gene_information = CSV.read(\"StockDatabaseDataFiles/gene_information.tsv\", col_sep: \"\\t\")\n",
    "p gene_information"
   ]
  },
  {
   "cell_type": "code",
   "execution_count": 2,
   "id": "ff459dde",
   "metadata": {},
   "outputs": [
    {
     "name": "stdout",
     "output_type": "stream",
     "text": [
      "[\"Parent1\", \"Parent2\", \"F2_Wild\", \"F2_P1\", \"F2_P2\", \"F2_P1P2\"]\n",
      "[\"A334\", \"A348\", \"110\", \"33\", \"38\", \"11\"]\n",
      "[\"A348\", \"B3334\", \"80\", \"26\", \"29\", \"8\"]\n",
      "[\"B3334\", \"A51\", \"99\", \"36\", \"34\", \"12\"]\n",
      "[\"A51\", \"B52\", \"152\", \"26\", \"22\", \"2\"]\n",
      "[\"B52\", \"A334\", \"75\", \"22\", \"30\", \"7\"]\n",
      " \n",
      "[\"Gene_ID\", \"Gene_name\", \"mutant_phenotype\"]\n",
      "[\"AT1G69120\", \"ap1\", \"meristems replace first and second whorl\"]\n",
      "[\"AT4G36920\", \"ap2\", \"first whorl carpels, second whorl stamens\"]\n",
      "[\"AT3G54340\", \"ap3\", \"second whorl sepals, third whorl carpels\"]\n",
      "[\"AT1G30950\", \"ufo\", \"second whorl sepaloidy, third whorl missing or carpeloid\"]\n",
      "[\"AT5G20240\", \"pi\", \"second whorl sepals, third whorl carpels\"]\n",
      " \n",
      "[\"Seed_Stock\", \"Mutant_Gene_ID\", \"Last_Planted\", \"Storage\", \"Grams_Remaining\"]\n",
      "[\"A334\", \"AT1G69120\", \"5/7/2014\", \"cama2\", \"28\"]\n",
      "[\"A348\", \"AT4G36920\", \"3/11/2013\", \"cama25\", \"12\"]\n",
      "[\"B3334\", \"AT3G54340\", \"1/12/2014\", \"cama18\", \"22\"]\n",
      "[\"A51\", \"AT1G30950\", \"9/2/2013\", \"cama25\", \"5\"]\n",
      "[\"B52\", \"AT5G20240\", \"8/11/2012\", \"cama16\", \"7\"]\n"
     ]
    }
   ],
   "source": [
    "#CITATION: Code adapted from\n",
    "#https://linuxtut.com/how-to-handle-tsv-files-and-csv-files-in-ruby-b8798/\n",
    "\n",
    "cross_data=\"StockDatabaseDataFiles/cross_data.tsv\"\n",
    "\n",
    "CSV.foreach(cross_data, col_sep: \"\\t\") do |line|\n",
    " p line\n",
    "end\n",
    "\n",
    "puts \" \"\n",
    "\n",
    "gene_information=\"StockDatabaseDataFiles/gene_information.tsv\"\n",
    "\n",
    "CSV.foreach(gene_information, col_sep: \"\\t\") do |line|\n",
    " p line\n",
    "end\n",
    "\n",
    "puts \" \"\n",
    "\n",
    "seed_stock_data=\"StockDatabaseDataFiles/seed_stock_data.tsv\"\n",
    "\n",
    "CSV.foreach(seed_stock_data, col_sep: \"\\t\") do |line|\n",
    " p line\n",
    "end\n",
    "\n"
   ]
  },
  {
   "cell_type": "markdown",
   "id": "381a59dd",
   "metadata": {},
   "source": [
    "_________\n",
    "\n",
    "**TASK 1)** \"simulate\" planting 7 grams of seeds from each of the records in the seed stock genebank\n",
    "then you should update the genebank information to show the new quantity of seeds\n",
    "that remain after a planting. The new state of the genebank\n",
    "should be printed to a new file, using exactly the same format as the\n",
    "original file seed_stock_data.tsv\n",
    "\n",
    "-- if the amount of seed is reduced to zero or less than zero, then\n",
    "a friendly warning message should appear on the screen. The amount\n",
    "of seed left in the gene bank is, of course, not LESS than zero"
   ]
  },
  {
   "cell_type": "code",
   "execution_count": 37,
   "id": "b123da9b",
   "metadata": {},
   "outputs": [
    {
     "name": "stdout",
     "output_type": "stream",
     "text": [
      "WARNING: we have run out of Seed Stock A51\n",
      "WARNING: we have run out of Seed Stock B52\n",
      "Data saved to new_stock_file.tsv\n"
     ]
    }
   ],
   "source": [
    "require './SeedStock_object.rb' \n",
    "\n",
    "# Specify the path to the input TSV file\n",
    "input_file = 'StockDatabaseDataFiles/seed_stock_data.tsv'\n",
    "\n",
    "# Create an array to hold instances of SeedStock\n",
    "seed_stocks = []\n",
    "\n",
    "# Read the data from the input file\n",
    "CSV.foreach(input_file, col_sep: \"\\t\", headers: true) do |row|\n",
    "  # Create a SeedStock object for each row and store it in the array\n",
    "  seed_stock = SeedStock.new(row['Seed_Stock'], row['Mutant_Gene_ID'], row['Last_Planted'], row['Storage'], row['Grams_Remaining'])\n",
    "  seed_stocks << seed_stock\n",
    "end\n",
    "\n",
    "# Simulate planting 7 grams of seeds and update the gene bank information\n",
    "seed_stocks.each { |seed_stock| seed_stock.planting_simulation(7) }\n",
    "\n",
    "# Specify the path to the output TSV file\n",
    "output_file = 'new_stock_file.tsv'\n",
    "\n",
    "# Write the updated data to the output file\n",
    "CSV.open(output_file, 'w', col_sep: \"\\t\") do |csv|\n",
    "  # Write the header row\n",
    "  csv << ['Seed_Stock', 'Mutant_Gene_ID', 'Last_Planted', 'Storage', 'Grams_Remaining']\n",
    "  # Write the data for each SeedStock object to the file\n",
    "  seed_stocks.each { |seed_stock| csv << seed_stock.to_csv }\n",
    "end\n",
    "\n",
    "puts \"Data saved to #{output_file}\""
   ]
  },
  {
   "cell_type": "markdown",
   "id": "7de0c944",
   "metadata": {},
   "source": [
    "**TASK 2)** process the information in cross_data.tsv and determine which genes are\n",
    "genetically-linked. To achieve this, you will have to do a Chi-square test\n",
    "on the F2 cross data. If you discover genes that are linked, this information\n",
    "should be added as a property of each of the genes (they are both linked to each\n",
    "other)."
   ]
  },
  {
   "cell_type": "code",
   "execution_count": 38,
   "id": "123875e9",
   "metadata": {},
   "outputs": [
    {
     "data": {
      "text/plain": [
       ":add_linked_gene"
      ]
     },
     "execution_count": 38,
     "metadata": {},
     "output_type": "execute_result"
    }
   ],
   "source": [
    "# Gene class \n",
    "class Gene\n",
    "  attr_accessor :gene_id, :gene_name, :mutant_phenotype\n",
    "\n",
    "  def initialize(gene_id, gene_name, mutant_phenotype)\n",
    "    @gene_id = gene_id\n",
    "    @gene_name = gene_name\n",
    "    @mutant_phenotype = mutant_phenotype\n",
    "    @linked_genes = [] # Add a property to store linked genes\n",
    "  end\n",
    "\n",
    "  def add_linked_gene(gene)\n",
    "    @linked_genes << gene\n",
    "    gene.linked_genes << self\n",
    "  end\n",
    "end\n"
   ]
  },
  {
   "cell_type": "code",
   "execution_count": 114,
   "id": "22688925",
   "metadata": {},
   "outputs": [
    {
     "data": {
      "text/plain": [
       ":chi_squared_test"
      ]
     },
     "execution_count": 114,
     "metadata": {},
     "output_type": "execute_result"
    }
   ],
   "source": [
    "class HybridCross\n",
    "  attr_accessor :parent1, :parent2, :f2_wild, :f2_p1, :f2_p2, :f2_p1p2\n",
    "\n",
    "  def initialize(parent1, parent2, f2_wild, f2_p1, f2_p2, f2_p1p2)\n",
    "    @parent1 = parent1\n",
    "    @parent2 = parent2\n",
    "    @f2_wild = f2_wild.to_i\n",
    "    @f2_p1 = f2_p1.to_i\n",
    "    @f2_p2 = f2_p2.to_i\n",
    "    @f2_p1p2 = f2_p1p2.to_i\n",
    "  end\n",
    "\n",
    "  def chi_squared_test\n",
    "    # Define your observed counts based on the F2 data (numeric data only)\n",
    "    observed_counts = [f2_wild, f2_p1, f2_p2, f2_p1p2]\n",
    "\n",
    "    # Calculate the total number of observations for this row\n",
    "    total_observations = observed_counts.sum\n",
    "\n",
    "    # Calculate the expected counts for each category based on the 9:3:3:1 ratio\n",
    "    expected_counts = [\n",
    "      (total_observations * 9/16.0),\n",
    "      (total_observations * 3/16.0),\n",
    "      (total_observations * 3/16.0),\n",
    "      (total_observations * 1/16.0)\n",
    "    ]\n",
    "\n",
    "    # Initialize arrays to store O - E and (O - E)^2 / E values for each category\n",
    "    o_minus_e = []\n",
    "    o_minus_e_squared_over_e = []\n",
    "\n",
    "    # Calculate O - E and (O - E)^2 / E for each category\n",
    "    (0...observed_counts.size).each do |j|\n",
    "      observed = observed_counts[j]\n",
    "      expected = expected_counts[j]\n",
    "      o_minus_e_value = observed - expected\n",
    "      o_minus_e_squared_over_e_value = (o_minus_e_value**2).to_f / expected\n",
    "      o_minus_e << o_minus_e_value\n",
    "      o_minus_e_squared_over_e << o_minus_e_squared_over_e_value\n",
    "    end\n",
    "\n",
    "    # Display a table with Observed (O), Expected (E), O - E, and (O - E)^2 / E for each category\n",
    "    puts \"Observed (O) | Expected (E) | O - E | (O - E)^2 / E\"\n",
    "    (0...observed_counts.size).each do |j|\n",
    "      puts \"#{format('%.2f', observed_counts[j])} | #{format('%.2f', expected_counts[j])} | #{format('%.2f', o_minus_e[j])} | #{format('%.2f', o_minus_e_squared_over_e[j])}\"\n",
    "    end\n",
    "\n",
    "    # Calculate the chi-squared statistic\n",
    "    chi_squared = o_minus_e_squared_over_e.sum\n",
    "    chi_squared\n",
    "    \n",
    "  end\n",
    "end\n",
    "\n",
    "\n",
    "    \n",
    "    # Determine degrees of freedom\n",
    "    #degrees_of_freedom = (row_totals.size - 1) * (column_to\n"
   ]
  },
  {
   "cell_type": "code",
   "execution_count": 120,
   "id": "136cac17",
   "metadata": {},
   "outputs": [
    {
     "name": "stdout",
     "output_type": "stream",
     "text": [
      "Observed (O) | Expected (E) | O - E | (O - E)^2 / E\n",
      "110.00 | 108.00 | 2.00 | 0.04\n",
      "33.00 | 36.00 | -3.00 | 0.25\n",
      "38.00 | 36.00 | 2.00 | 0.11\n",
      "11.00 | 12.00 | -1.00 | 0.08\n",
      "Chi-squared statistic for row 1: 0.48148148148148145\n",
      "Observed (O) | Expected (E) | O - E | (O - E)^2 / E\n",
      "80.00 | 80.44 | -0.44 | 0.00\n",
      "26.00 | 26.81 | -0.81 | 0.02\n",
      "29.00 | 26.81 | 2.19 | 0.18\n",
      "8.00 | 8.94 | -0.94 | 0.10\n",
      "Chi-squared statistic for row 2: 0.3038073038073038\n",
      "Observed (O) | Expected (E) | O - E | (O - E)^2 / E\n",
      "99.00 | 101.81 | -2.81 | 0.08\n",
      "36.00 | 33.94 | 2.06 | 0.13\n",
      "34.00 | 33.94 | 0.06 | 0.00\n",
      "12.00 | 11.31 | 0.69 | 0.04\n",
      "Chi-squared statistic for row 3: 0.2449355432780847\n",
      "Observed (O) | Expected (E) | O - E | (O - E)^2 / E\n",
      "152.00 | 113.62 | 38.38 | 12.96\n",
      "26.00 | 37.88 | -11.88 | 3.72\n",
      "22.00 | 37.88 | -15.88 | 6.65\n",
      "2.00 | 12.62 | -10.62 | 8.94\n",
      "Chi-squared statistic for row 4: 32.27942794279428\n",
      "Observed (O) | Expected (E) | O - E | (O - E)^2 / E\n",
      "75.00 | 75.38 | -0.38 | 0.00\n",
      "22.00 | 25.12 | -3.12 | 0.39\n",
      "30.00 | 25.12 | 4.88 | 0.95\n",
      "7.00 | 8.38 | -1.38 | 0.23\n",
      "Chi-squared statistic for row 5: 1.5621890547263682\n"
     ]
    },
    {
     "data": {
      "text/plain": [
       "[#<#<Class:0x000055735a69f870>::HybridCross:0x000055735a68c400 @parent1=\"A334\", @parent2=\"A348\", @f2_wild=110, @f2_p1=33, @f2_p2=38, @f2_p1p2=11>, #<#<Class:0x000055735a69f870>::HybridCross:0x000055735a68c090 @parent1=\"A348\", @parent2=\"B3334\", @f2_wild=80, @f2_p1=26, @f2_p2=29, @f2_p1p2=8>, #<#<Class:0x000055735a69f870>::HybridCross:0x000055735a723d28 @parent1=\"B3334\", @parent2=\"A51\", @f2_wild=99, @f2_p1=36, @f2_p2=34, @f2_p1p2=12>, #<#<Class:0x000055735a69f870>::HybridCross:0x000055735a7239e0 @parent1=\"A51\", @parent2=\"B52\", @f2_wild=152, @f2_p1=26, @f2_p2=22, @f2_p1p2=2>, #<#<Class:0x000055735a69f870>::HybridCross:0x000055735a723670 @parent1=\"B52\", @parent2=\"A334\", @f2_wild=75, @f2_p1=22, @f2_p2=30, @f2_p1p2=7>]"
      ]
     },
     "execution_count": 120,
     "metadata": {},
     "output_type": "execute_result"
    }
   ],
   "source": [
    "require 'csv'\n",
    "\n",
    "# Define the HybridCross class as previously shown\n",
    "\n",
    "# Read data from cross_data.tsv\n",
    "cross_data = CSV.read('StockDatabaseDataFiles/cross_data.tsv', col_sep: \"\\t\", headers: true)\n",
    "\n",
    "# Create an array to store instances of the HybridCross class\n",
    "hybrid_crosses = []\n",
    "\n",
    "# Iterate through the CSV data and create instances of HybridCross\n",
    "cross_data.each do |row|\n",
    "  hybrid_cross = HybridCross.new(\n",
    "    row['Parent1'],\n",
    "    row['Parent2'],\n",
    "    row['F2_Wild'],\n",
    "    row['F2_P1'],\n",
    "    row['F2_P2'],\n",
    "    row['F2_P1P2']\n",
    "  )\n",
    "  hybrid_crosses << hybrid_cross\n",
    "end\n",
    "\n",
    "# Perform the chi-squared test for each HybridCross instance and print the results\n",
    "hybrid_crosses.each_with_index do |hybrid_cross, index|\n",
    "  chi_squared = hybrid_cross.chi_squared_test\n",
    "  puts \"Chi-squared statistic for row #{index + 1}: #{chi_squared}\"\n",
    "end\n"
   ]
  },
  {
   "cell_type": "code",
   "execution_count": null,
   "id": "da5b5759",
   "metadata": {},
   "outputs": [],
   "source": []
  },
  {
   "cell_type": "code",
   "execution_count": 32,
   "id": "14ef4ea3",
   "metadata": {},
   "outputs": [
    {
     "data": {
      "text/plain": [
       ":initialize"
      ]
     },
     "execution_count": 32,
     "metadata": {},
     "output_type": "execute_result"
    }
   ],
   "source": [
    "class Database\n",
    "  attr_accessor :genes, :seed_stocks, :hybrid_crosses\n",
    "\n",
    "  def initialize\n",
    "    @genes = {}\n",
    "    @seed_stocks = {}\n",
    "    @hybrid_crosses = []\n",
    "  end\n",
    "end\n"
   ]
  }
 ],
 "metadata": {
  "kernelspec": {
   "display_name": "Ruby 3.0.0",
   "language": "ruby",
   "name": "ruby"
  },
  "language_info": {
   "file_extension": ".rb",
   "mimetype": "application/x-ruby",
   "name": "ruby",
   "version": "3.0.0"
  }
 },
 "nbformat": 4,
 "nbformat_minor": 5
}
